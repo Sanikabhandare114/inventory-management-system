{
 "cells": [
  {
   "cell_type": "code",
   "execution_count": null,
   "id": "612d042d",
   "metadata": {},
   "outputs": [],
   "source": [
    "products = {\n",
    "   \n",
    "    1001 : {\"name\":\"parle Rusk\",               \"price\":53,  \"quan\":150,  \"expiry\":\"20 oct 2023\",  \"brand\":\"parle\"},\n",
    "    1002 : {\"name\":\"melody choolaty\",          \"price\":20,   \"quan\":130, \"expiry\":\"12 jan 2022\",  \"brand\":\"parle\"},\n",
    "    1003 : {\"name\":\"Chatkeens namkineen\",      \"price\":48,   \"quan\":145, \"expiry\":\"10 mar 2023\",  \"brand\":\"parle\"},\n",
    "    1004 : {\"name\":\"parle G orignals\",         \"price\":52,   \"quan\":122, \"expiry\":\"23 jun 2023\",  \"brand\":\"parle\"},\n",
    "    1005 : {\"name\":\"Top Spin Crackers\",        \"price\":85,   \"quan\":90,  \"expiry\":\"30 oct 2022\",  \"brand\":\"parle\"},\n",
    "    1006 : {\"name\":\"Lays chip\",                \"price\":207,  \"quan\":258,  \"expiry\":\"29 jan 2022\",  \"brand\":\"Lays\"},\n",
    "    1007 : {\"name\":\"Kitkat Desert\",            \"price\":55,   \"quan\":159,  \"expiry\":\"31 aug 2022\",  \"brand\":\"Nestle\"},\n",
    "    1008 : {\"name\":\"Dark Fantasy Choco Fills\", \"price\":90,   \"quan\":100,  \"expiry\":\"21 feb 2022\",  \"brand\":\"Dark Fantasy\"},\n",
    "    1009 : {\"name\":\"Candyman Fantasy\",         \"price\":80,   \"quan\":100,  \"expiry\":\"28 dec 2021\",  \"brand\":\"Candyman Fantastik\"},\n",
    "    1010 : {\"name\":\"Lotte Choco Pie\",          \"price\":110,  \"quan\":95,  \"expiry\":\"01 jun 2022\",  \"brand\":\"Lotte\"},\n",
    "    1011 : {\"name\":\"Britania Chocolate cake\",  \"price\":120,  \"quan\":100, \"expiry\":\"15 jul 2022\",  \"brand\":\"Britania\"},\n",
    "    1012 : {\"name\":\"Pillsbury cookes cake\",    \"price\":90,   \"quan\":200, \"expiry\":\"02 dec 2021\",  \"brand\":\"Pillsbury\"},\n",
    "    1013 : {\"name\":\"Kraft Oreo Soft Cake\",     \"price\":249,  \"quan\":120, \"expiry\":\"30 dec 2021\",  \"brand\":\"Ore0\"},\n",
    "    1014 : {\"name\":\"Mom's Magic Cashew\",       \"price\":80,   \"quan\":180, \"expiry\":\"19 mar 2022\",  \"brand\":\"Sunfeast\"},\n",
    "    1015 : {\"name\":\"popchips patato chips\",    \"price\":60,   \"quan\":185, \"expiry\":\"19 feb 2022\",  \"brand\":\"sea salt\"},\n",
    "    1016 : {\"name\":\"Betty Croker Pancake\",     \"price\":346,  \"quan\":190, \"expiry\":\"15 jan 2022\",  \"brand\":\"Betty Croker\"},\n",
    "    1017 : {\"name\":\"20-20 cookies\",            \"price\":67,   \"quan\":140, \"expiry\":\"13 dec 2011\",  \"brand\":\"Parle\"},\n",
    "    1018 : {\"name\":\"Haldiram chips\",           \"price\":30,   \"quan\":450, \"expiry\":\"14 feb 2023\",  \"brand\":\"Haldiram\"},\n",
    "    1019 : {\"name\":\"Bingo! Mad Angle\",         \"price\":25,   \"quan\":440, \"expiry\":\"20 dec 2023\",  \"brand\":\"Bingo!\"},\n",
    "    1020 : {\"name\":\"Kellogg's pringles\",       \"price\":85,   \"quan\":400, \"expiry\":\"25 jan 2024\",  \"brand\":\"Kellog's\"},\n",
    "    1021 : {\"name\":\"Dorito's Nacho Chips\",     \"price\":90,   \"quan\":360, \"expiry\":\"22 jan 2023\",  \"brand\":\"Dorito's\"},\n",
    "    1022 : {\"name\":\"Thums Up Soft Drink\",      \"price\":40,   \"quan\":60,  \"expiry\":\"20 dec 2024\",  \"brand\":\"Thums Up\"},\n",
    "    1023 : {\"name\":\"coca cola\",                \"price\":55,   \"quan\":70,  \"expiry\":\"20 jun 2023\",  \"brand\":\"coca cola\"},\n",
    "    1024 : {\"name\":\"Happy Happy Cocies\",       \"price\":65,   \"quan\":60,  \"expiry\":\"22 jul 2023\",  \"brand\":\"parle\"},\n",
    "    1025 : {\"name\":\"Sprite Lime Flavor\",       \"price\":89,   \"quan\":40,  \"expiry\":\"20 nov 2023\",  \"brand\":\"Sprite\"},\n",
    "    1026 : {\"name\":\"Colgate Maxfresh\",         \"price\":215,  \"quan\":55,  \"expiry\":\"20 jun 2024\",  \"brand\":\"Colgate\"},\n",
    "    1027 : {\"name\":\"close up maxfresh\",        \"price\":300,  \"quan\":150, \"expiry\":\"15 jul 2022\",  \"brand\":\"Hindustan unilever\"},\n",
    "    1028 : {\"name\":\"Dabur Amla Hair Oil\",      \"price\":247,  \"quan\":100, \"expiry\":\"10 aug 2024\",  \"brand\":\"DABUR\"},\n",
    "    1029 : {\"name\":\"Nivea Men Face Wash\",      \"price\":149,  \"quan\":98,  \"expiry\":\"31 jul 2022\",  \"brand\":\"Nivea\"},\n",
    "    1030 : {\"name\":\"Himalaya  Face wash\",      \"price\":104, \"quan\":200, \"expiry\":\"22 may 2022\",  \"brand\":\"Himalaya\"},\n",
    "    1031 : {\"name\":\"Himalaya Baby Powder\",     \"price\":243,  \"quan\":150, \"expiry\":\"31 may 2024\",  \"brand\":\"Himalaya\"},\n",
    "    1017 : {\"name\":\"Parle G Original\",         \"price\":67,   \"quan\":140, \"expiry\":\"13 dec 2011\",  \"brand\":\"Parle\"},\n",
    "    1018 : {\"name\":\"Lays Potato Chips\",        \"price\":30,   \"quan\":450, \"expiry\":\"14 feb 2023\",  \"brand\":\"Lay's\"},\n",
    "    1019 : {\"name\":\"Bingo! Mad Angle\",         \"price\":25,   \"quan\":440, \"expiry\":\"20 dec 2023\",  \"brand\":\"Bingo!\"},\n",
    "    1020 : {\"name\":\"Kellogg's pringles\",       \"price\":85,   \"quan\":400, \"expiry\":\"25 jan 2024\",  \"brand\":\"Kellog's\"},\n",
    "    1021 : {\"name\":\"Vicco vajradanti\",         \"price\":190,   \"quan\":360, \"expiry\":\"22 jan 2023\",  \"brand\":\"Vicco\"},\n",
    "    1022 : {\"name\":\"patanjali dantkanti\",      \"price\":40,   \"quan\":60,  \"expiry\":\"20 dec 2024\",  \"brand\":\"patanjali\"},\n",
    "    1023 : {\"name\":\"Meswak oral care\",         \"price\":155,   \"quan\":70,  \"expiry\":\"20 jun 2023\",  \"brand\":\"Meswak\"},\n",
    "    1024 : {\"name\":\"Synsodyne Rapid Relife\",   \"price\":165,   \"quan\":60,  \"expiry\":\"22 jul 2023\",  \"brand\":\"synsodyne\"},\n",
    "    1025 : {\"name\":\"Oral-B pro expert\",        \"price\":189,   \"quan\":40,  \"expiry\":\"20 nov 2023\",  \"brand\":\"Oral-B\"},\n",
    "    1026 : {\"name\":\"Colgate Maxfresh\",         \"price\":215,  \"quan\":55,  \"expiry\":\"20 jun 2024\",  \"brand\":\"Colgate\"},\n",
    "    1027 : {\"name\":\"Pepsodent Gum Care\",       \"price\":360,  \"quan\":150, \"expiry\":\"15 jul 2022\",  \"brand\":\"Pepsodent\"},\n",
    "    1028 : {\"name\":\"Dabur Amla Hair Oil\",      \"price\":231,  \"quan\":100, \"expiry\":\"10 aug 2024\",  \"brand\":\"DABUR\"},\n",
    "    1029 : {\"name\":\"himalaya hair oil\",        \"price\":399,  \"quan\":98,  \"expiry\":\"31 jul 2022\",  \"brand\":\"Himalaya\"},\n",
    "    1030 : {\"name\":\"Himalaya Herbal Face wash\",\"price\":99, \"quan\":200, \"expiry\":\"22 may 2022\",  \"brand\":\"Himalaya\"},\n",
    "    1031 : {\"name\":\"Himalaya Baby Powder\",     \"price\":343,  \"quan\":150, \"expiry\":\"31 may 2024\",  \"brand\":\"Himalaya\"},   \n",
    "    1032 : {\"name\":\"Nihar hair oil\",           \"price\":199,  \"quan\":120, \"expiry\":\"31 may 2024\",  \"brand\":\"Nihar\"},\n",
    "    1033 : {\"name\":\"sesa hair oil\",            \"price\":499,  \"quan\":155, \"expiry\":\"01 jan 2024\",  \"brand\":\"BAN Lables\"},\n",
    "    1034 : {\"name\":\"Lotus hair oil\",           \"price\":555,  \"quan\":230, \"expiry\":\"31 may 2024\",  \"brand\":\"Lotus\"},\n",
    "    1035 : {\"name\":\"Biotique hair oil\",        \"price\":475,  \"quan\":50,  \"expiry\":\"31 jan 2022\",  \"brand\":\"Biotique\"}\n",
    "}\n",
    "    \n",
    "    "
   ]
  },
  {
   "cell_type": "code",
   "execution_count": null,
   "id": "2e0d141f",
   "metadata": {},
   "outputs": [],
   "source": [
    "import json"
   ]
  },
  {
   "cell_type": "code",
   "execution_count": null,
   "id": "2e385c03",
   "metadata": {},
   "outputs": [],
   "source": [
    "js = json.dumps(products)"
   ]
  },
  {
   "cell_type": "code",
   "execution_count": null,
   "id": "6a530c9f",
   "metadata": {},
   "outputs": [],
   "source": [
    "fd = open(\"products.json\",\"w\")\n",
    "fd.write(js)\n",
    "fd.close()"
   ]
  },
  {
   "cell_type": "code",
   "execution_count": null,
   "id": "fa84a127",
   "metadata": {},
   "outputs": [],
   "source": [
    "products = json.loads(r)"
   ]
  },
  {
   "cell_type": "code",
   "execution_count": null,
   "id": "19016941",
   "metadata": {},
   "outputs": [],
   "source": [
    "products"
   ]
  },
  {
   "cell_type": "code",
   "execution_count": null,
   "id": "b6facdfc",
   "metadata": {},
   "outputs": [],
   "source": [
    "{\n",
    "    1001 : {\"name\":\"parle Rusk\",               \"price\":53,  \"quan\":150,  \"expiry\":\"20 oct 2023\",  \"brand\":\"parle\"},\n",
    "    1002 : {\"name\":\"melody choolaty\",          \"price\":20,   \"quan\":130, \"expiry\":\"12 jan 2022\",  \"brand\":\"parle\"},\n",
    "    1003 : {\"name\":\"Chatkeens namkineen\",      \"price\":48,   \"quan\":145, \"expiry\":\"10 mar 2023\",  \"brand\":\"parle\"},\n",
    "    1004 : {\"name\":\"parle G orignals\",         \"price\":52,   \"quan\":122, \"expiry\":\"23 jun 2023\",  \"brand\":\"parle\"},\n",
    "    1005 : {\"name\":\"Top Spin Crackers\",        \"price\":85,   \"quan\":90,  \"expiry\":\"30 oct 2022\",  \"brand\":\"parle\"},\n",
    "    1006 : {\"name\":\"Lays chip\",                \"price\":207,  \"quan\":258,  \"expiry\":\"29 jan 2022\",  \"brand\":\"Lays\"},\n",
    "    1007 : {\"name\":\"Kitkat Desert\",            \"price\":55,   \"quan\":159,  \"expiry\":\"31 aug 2022\",  \"brand\":\"Nestle\"},\n",
    "    1008 : {\"name\":\"Dark Fantasy Choco Fills\", \"price\":90,   \"quan\":100,  \"expiry\":\"21 feb 2022\",  \"brand\":\"Dark Fantasy\"},\n",
    "    1009 : {\"name\":\"Candyman Fantasy\",         \"price\":80,   \"quan\":100,  \"expiry\":\"28 dec 2021\",  \"brand\":\"Candyman Fantastik\"},\n",
    "    1010 : {\"name\":\"Lotte Choco Pie\",          \"price\":110,  \"quan\":95,  \"expiry\":\"01 jun 2022\",  \"brand\":\"Lotte\"},\n",
    "    1011 : {\"name\":\"Britania Chocolate cake\",  \"price\":120,  \"quan\":100, \"expiry\":\"15 jul 2022\",  \"brand\":\"Britania\"},\n",
    "    1012 : {\"name\":\"Pillsbury cookes cake\",    \"price\":90,   \"quan\":200, \"expiry\":\"02 dec 2021\",  \"brand\":\"Pillsbury\"},\n",
    "    1013 : {\"name\":\"Kraft Oreo Soft Cake\",     \"price\":249,  \"quan\":120, \"expiry\":\"30 dec 2021\",  \"brand\":\"Ore0\"},\n",
    "    1014 : {\"name\":\"Mom's Magic Cashew\",       \"price\":80,   \"quan\":180, \"expiry\":\"19 mar 2022\",  \"brand\":\"Sunfeast\"},\n",
    "    1015 : {\"name\":\"popchips patato chips\",    \"price\":60,   \"quan\":185, \"expiry\":\"19 feb 2022\",  \"brand\":\"sea salt\"},\n",
    "    1016 : {\"name\":\"Betty Croker Pancake\",     \"price\":346,  \"quan\":190, \"expiry\":\"15 jan 2022\",  \"brand\":\"Betty Croker\"},\n",
    "    1017 : {\"name\":\"20-20 cookies\",            \"price\":67,   \"quan\":140, \"expiry\":\"13 dec 2011\",  \"brand\":\"Parle\"},\n",
    "    1018 : {\"name\":\"Haldiram chips\",           \"price\":30,   \"quan\":450, \"expiry\":\"14 feb 2023\",  \"brand\":\"Haldiram\"},\n",
    "    1019 : {\"name\":\"Bingo! Mad Angle\",         \"price\":25,   \"quan\":440, \"expiry\":\"20 dec 2023\",  \"brand\":\"Bingo!\"},\n",
    "    1020 : {\"name\":\"Kellogg's pringles\",       \"price\":85,   \"quan\":400, \"expiry\":\"25 jan 2024\",  \"brand\":\"Kellog's\"},\n",
    "    1021 : {\"name\":\"Dorito's Nacho Chips\",     \"price\":90,   \"quan\":360, \"expiry\":\"22 jan 2023\",  \"brand\":\"Dorito's\"},\n",
    "    1022 : {\"name\":\"Thums Up Soft Drink\",      \"price\":40,   \"quan\":60,  \"expiry\":\"20 dec 2024\",  \"brand\":\"Thums Up\"},\n",
    "    1023 : {\"name\":\"coca cola\",                \"price\":55,   \"quan\":70,  \"expiry\":\"20 jun 2023\",  \"brand\":\"coca cola\"},\n",
    "    1024 : {\"name\":\"Happy Happy Cocies\",       \"price\":65,   \"quan\":60,  \"expiry\":\"22 jul 2023\",  \"brand\":\"parle\"},\n",
    "    1025 : {\"name\":\"Sprite Lime Flavor\",       \"price\":89,   \"quan\":40,  \"expiry\":\"20 nov 2023\",  \"brand\":\"Sprite\"},\n",
    "    1026 : {\"name\":\"Colgate Maxfresh\",         \"price\":215,  \"quan\":55,  \"expiry\":\"20 jun 2024\",  \"brand\":\"Colgate\"},\n",
    "    1027 : {\"name\":\"close up maxfresh\",        \"price\":300,  \"quan\":150, \"expiry\":\"15 jul 2022\",  \"brand\":\"Hindustan unilever\"},\n",
    "    1028 : {\"name\":\"Dabur Amla Hair Oil\",      \"price\":247,  \"quan\":100, \"expiry\":\"10 aug 2024\",  \"brand\":\"DABUR\"},\n",
    "    1029 : {\"name\":\"Nivea Men Face Wash\",      \"price\":149,  \"quan\":98,  \"expiry\":\"31 jul 2022\",  \"brand\":\"Nivea\"},\n",
    "    1030 : {\"name\":\"Himalaya  Face wash\",      \"price\":104, \"quan\":200, \"expiry\":\"22 may 2022\",  \"brand\":\"Himalaya\"},\n",
    "    1031 : {\"name\":\"Himalaya Baby Powder\",     \"price\":243,  \"quan\":150, \"expiry\":\"31 may 2024\",  \"brand\":\"Himalaya\"},\n",
    "    1017 : {\"name\":\"Parle G Original\",         \"price\":67,   \"quan\":140, \"expiry\":\"13 dec 2011\",  \"brand\":\"Parle\"},\n",
    "    1018 : {\"name\":\"Lays Potato Chips\",        \"price\":30,   \"quan\":450, \"expiry\":\"14 feb 2023\",  \"brand\":\"Lay's\"},\n",
    "    1019 : {\"name\":\"Bingo! Mad Angle\",         \"price\":25,   \"quan\":440, \"expiry\":\"20 dec 2023\",  \"brand\":\"Bingo!\"},\n",
    "    1020 : {\"name\":\"Kellogg's pringles\",       \"price\":85,   \"quan\":400, \"expiry\":\"25 jan 2024\",  \"brand\":\"Kellog's\"},\n",
    "    1021 : {\"name\":\"Vicco vajradanti\",         \"price\":190,   \"quan\":360, \"expiry\":\"22 jan 2023\",  \"brand\":\"Vicco\"},\n",
    "    1022 : {\"name\":\"patanjali dantkanti\",      \"price\":40,   \"quan\":60,  \"expiry\":\"20 dec 2024\",  \"brand\":\"patanjali\"},\n",
    "    1023 : {\"name\":\"Meswak oral care\",         \"price\":155,   \"quan\":70,  \"expiry\":\"20 jun 2023\",  \"brand\":\"Meswak\"},\n",
    "    1024 : {\"name\":\"Synsodyne Rapid Relife\",   \"price\":165,   \"quan\":60,  \"expiry\":\"22 jul 2023\",  \"brand\":\"synsodyne\"},\n",
    "    1025 : {\"name\":\"Oral-B pro expert\",        \"price\":189,   \"quan\":40,  \"expiry\":\"20 nov 2023\",  \"brand\":\"Oral-B\"},\n",
    "    1026 : {\"name\":\"Colgate Maxfresh\",         \"price\":215,  \"quan\":55,  \"expiry\":\"20 jun 2024\",  \"brand\":\"Colgate\"},\n",
    "    1027 : {\"name\":\"Pepsodent Gum Care\",       \"price\":360,  \"quan\":150, \"expiry\":\"15 jul 2022\",  \"brand\":\"Pepsodent\"},\n",
    "    1028 : {\"name\":\"Dabur Amla Hair Oil\",      \"price\":231,  \"quan\":100, \"expiry\":\"10 aug 2024\",  \"brand\":\"DABUR\"},\n",
    "    1029 : {\"name\":\"himalaya hair oil\",        \"price\":399,  \"quan\":98,  \"expiry\":\"31 jul 2022\",  \"brand\":\"Himalaya\"},\n",
    "    1030 : {\"name\":\"Himalaya Herbal Face wash\",\"price\":99, \"quan\":200, \"expiry\":\"22 may 2022\",  \"brand\":\"Himalaya\"},\n",
    "    1031 : {\"name\":\"Himalaya Baby Powder\",     \"price\":343,  \"quan\":150, \"expiry\":\"31 may 2024\",  \"brand\":\"Himalaya\"},   \n",
    "    1032 : {\"name\":\"Nihar hair oil\",           \"price\":199,  \"quan\":120, \"expiry\":\"31 may 2024\",  \"brand\":\"Nihar\"},\n",
    "    1033 : {\"name\":\"sesa hair oil\",            \"price\":499,  \"quan\":155, \"expiry\":\"01 jan 2024\",  \"brand\":\"BAN Lables\"},\n",
    "    1034 : {\"name\":\"Lotus hair oil\",           \"price\":555,  \"quan\":230, \"expiry\":\"31 may 2024\",  \"brand\":\"Lotus\"},\n",
    "    1035 : {\"name\":\"Biotique hair oil\",        \"price\":475,  \"quan\":50,  \"expiry\":\"31 jan 2022\",  \"brand\":\"Biotique\"}\n",
    "}\n",
    "    \n",
    "    \n",
    "\n"
   ]
  },
  {
   "cell_type": "markdown",
   "id": "7a33bea4",
   "metadata": {},
   "source": [
    "# adding new item to the inventory"
   ]
  },
  {
   "cell_type": "code",
   "execution_count": null,
   "id": "f2b24ab1",
   "metadata": {},
   "outputs": [],
   "source": [
    "prod_id = input(\"Enter the Product ID: \")\n",
    "name = input(\"Enter the Name of the Product: \")\n",
    "price = int(input(\"Enter the price per Item: \"))\n",
    "quan = int(input(\"Enter The Quantity of the Product you want to add: \"))\n",
    "expiry = input(\"Enter the expiry date of the Product: \")\n",
    "brand = input(\"Enter the Brand of the product: \")\n",
    "\n",
    "products[prod_id] = {\"name\":name,\"price\":price,\"quan\":quan,\"expiry\":expiry,\"brand\":brand}\n",
    "\n",
    "js = json.dumps(products)\n",
    "\n",
    "fd = open(\"products.json\",\"w\")\n",
    "fd.write(js)\n",
    "fd.close()\n"
   ]
  },
  {
   "cell_type": "code",
   "execution_count": null,
   "id": "3967724f",
   "metadata": {},
   "outputs": [],
   "source": [
    "Enter the Product ID: 1036\n",
    "Enter the Name of the Product: pringles\n",
    "Enter the price per Item: 25\n",
    "Enter The Quantity of the Product you want to add: 225\n",
    "Enter the expiry date of the Product: 1 Dec 2022\n",
    "Enter the Brand of the product: kelloggs"
   ]
  }
 ],
 "metadata": {
  "kernelspec": {
   "display_name": "Python 3",
   "language": "python",
   "name": "python3"
  },
  "language_info": {
   "codemirror_mode": {
    "name": "ipython",
    "version": 3
   },
   "file_extension": ".py",
   "mimetype": "text/x-python",
   "name": "python",
   "nbconvert_exporter": "python",
   "pygments_lexer": "ipython3",
   "version": "3.8.8"
  }
 },
 "nbformat": 4,
 "nbformat_minor": 5
}
